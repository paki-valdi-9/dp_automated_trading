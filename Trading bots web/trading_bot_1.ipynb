{
 "cells": [
  {
   "cell_type": "code",
   "execution_count": 9,
   "metadata": {
    "collapsed": false
   },
   "outputs": [],
   "source": [
    "import pandas as pd\n",
    "\n",
    "df = pd.read_csv('BTC-USD_17.09.2014-14.03.2024.csv')\n",
    "\n",
    "df['Date'] = pd.to_datetime(df['Date'], format='%d-%m-%y')"
   ]
  },
  {
   "cell_type": "code",
   "execution_count": 10,
   "metadata": {
    "collapsed": false
   },
   "outputs": [],
   "source": [
    "from datetime import datetime\n",
    "\n",
    "def prompt_for_date(prompt_message, min_date=None, max_date=None, comparison_date=None, must_be_after=False):\n",
    "    while True:\n",
    "        date_input = input(prompt_message)\n",
    "        try:\n",
    "            date = datetime.strptime(date_input, \"%d-%m-%Y\")\n",
    "            if min_date is not None and date < min_date:\n",
    "                print(\"The date must not be before %s.\" % min_date.strftime(\"%d-%m-%Y\"))\n",
    "                continue\n",
    "            if max_date is not None and date > max_date:\n",
    "                print(\"The date must not be after %s.\" % max_date.strftime(\"%d-%m-%Y\"))\n",
    "                continue\n",
    "            if comparison_date is not None:\n",
    "                if must_be_after and date <= comparison_date:\n",
    "                    print(\"The end date must be after the start date %s.\" % comparison_date.strftime(\"%d-%m-%Y\"))\n",
    "                    continue\n",
    "            return date\n",
    "        except ValueError:\n",
    "            print(\"Invalid date format. Please use the format dd-mm-yyyy.\")\n",
    "\n",
    "min_allowed_start_date = datetime.strptime(\"17-09-2014\", \"%d-%m-%Y\")\n",
    "max_allowed_end_date = datetime.strptime(\"14-03-2024\", \"%d-%m-%Y\")\n",
    "\n",
    "start_date = prompt_for_date(\"Enter the start date (dd-mm-yyyy).\", min_date=min_allowed_start_date)\n",
    "end_date = prompt_for_date(\"Enter the end date (dd-mm-yyyy).\", max_date=max_allowed_end_date, comparison_date=start_date, must_be_after=True)\n",
    "\n",
    "def prompt_for_number(prompt_message, minimum=None, condition=lambda x: True):\n",
    "    while True:\n",
    "        try:\n",
    "            number = float(input(prompt_message))\n",
    "            if minimum is not None and number <= minimum:\n",
    "                print(\"The value must be greater than %s.\" % minimum)\n",
    "                continue\n",
    "            if not condition(number):\n",
    "                print(\"The input does not meet the required condition.\")\n",
    "                continue\n",
    "            return number\n",
    "        except ValueError:\n",
    "            print(\"Please enter a valid number.\")\n",
    "\n",
    "initial_balance = prompt_for_number(\"Enter the initial balance of the trading bot wallet: \", minimum=0)\n",
    "profit_percent = prompt_for_number(\"Enter the % profit (value must be >= 1): \", minimum=1.00) \n",
    "\n",
    "start_date_df_ascending_6month = pd.to_datetime('2020-10-01')\n",
    "end_date_df_ascending_6month  = pd.to_datetime('2021-04-01')\n",
    "start_date_df_descending_6month = pd.to_datetime('2021-10-01')\n",
    "end_date_df_descending_6month  = pd.to_datetime('2022-09-01')\n",
    "start_date_df_stagnation_6month = pd.to_datetime('2015-11-01')\n",
    "end_date_df_stagnation_6month  = pd.to_datetime('2016-04-01')\n",
    "start_date_df_combined_1year = pd.to_datetime('2021-10-01')\n",
    "end_date_df_combined_1year  = pd.to_datetime('2022-11-01')"
   ]
  },
  {
   "cell_type": "code",
   "execution_count": 11,
   "metadata": {
    "collapsed": false
   },
   "outputs": [],
   "source": [
    "def prepare_and_export(df, file_name, initial_balance, initial_profit):\n",
    "    df.rename(columns={'Date': 'date', 'Open': 'open', 'High': 'high', 'Low': 'low', 'Close': 'close', 'Volume': 'volume'}, inplace=True)\n",
    "    df.insert(1, 'time', '00:00')\n",
    "    df['date'] = df['date'].dt.strftime('%m/%d/%Y')\n",
    "    df['date'] = pd.to_datetime(df['date'])\n",
    "    df.drop(columns=['Adj Close'], inplace=True)\n",
    "    df['initial_balance'] = initial_balance\n",
    "    df['profit'] = initial_profit\n",
    "    df.to_csv(file_name, index=False)\n",
    "\n",
    "filtered_df = df[(df['Date'] >= start_date) & (df['Date'] <= end_date)].copy()\n",
    "filtered_df_ascending_6month = df[(df['Date'] >= start_date_df_ascending_6month) & (df['Date'] <= end_date_df_ascending_6month)].copy()\n",
    "filtered_df_descending_6month = df[(df['Date'] >= start_date_df_descending_6month) & (df['Date'] <= end_date_df_descending_6month)].copy()\n",
    "filtered_df_stagnation_6month = df[(df['Date'] >= start_date_df_stagnation_6month) & (df['Date'] <= end_date_df_stagnation_6month)].copy()\n",
    "filtered_df_combined_1year = df[(df['Date'] >= start_date_df_combined_1year) & (df['Date'] <= end_date_df_combined_1year)].copy()\n",
    "\n",
    "prepare_and_export(filtered_df, 'btcusd_tb1_data.csv', initial_balance, profit_percent)\n",
    "prepare_and_export(filtered_df_ascending_6month, 'btcusd_tb1_asc_data.csv', initial_balance, profit_percent)\n",
    "prepare_and_export(filtered_df_descending_6month, 'btcusd_tb1_dsc_data.csv', initial_balance, profit_percent)\n",
    "prepare_and_export(filtered_df_stagnation_6month, 'btcusd_tb1_stg_data.csv', initial_balance, profit_percent)\n",
    "prepare_and_export(filtered_df_combined_1year, 'btcusd_tb1_com_data.csv', initial_balance, profit_percent)"
   ]
  },
  {
   "cell_type": "code",
   "execution_count": 12,
   "metadata": {
    "collapsed": false
   },
   "outputs": [],
   "source": [
    "import time\n",
    "from datetime import datetime\n",
    "\n",
    "def trading_bot_1(balance, data, fee_percent, profit_percent):\n",
    "    trades = []\n",
    "    holding = 0\n",
    "    last_buy_balance = 0\n",
    "\n",
    "    for index, row in data.iterrows():\n",
    "        date = row['date']\n",
    "        unix_date = int(time.mktime(date.timetuple()))\n",
    "        open_price, high_price, low_price, close_price = row['open'], row['high'], row['low'], row['close']\n",
    "\n",
    "        if holding == 0:\n",
    "            buy_price = open_price\n",
    "            fee = fee_percent * balance / 100\n",
    "            real_balance = balance - fee\n",
    "            last_buy_balance = real_balance\n",
    "            holding = real_balance / buy_price\n",
    "            trades.append([unix_date, date, 'BUY', buy_price, open_price, high_price, low_price, close_price, real_balance])\n",
    "        if holding > 0:\n",
    "            sell_value = holding * close_price\n",
    "            profit = (sell_value - last_buy_balance) / last_buy_balance * 100\n",
    "\n",
    "            if profit >= profit_percent:\n",
    "                fee = fee_percent * sell_value / 100\n",
    "                balance = sell_value - fee\n",
    "                holding = 0\n",
    "                last_buy_balance =  sell_value\n",
    "                trades.append([unix_date, date, 'SELL', close_price, open_price, high_price, low_price, close_price, balance])\n",
    "                \n",
    "    final_balance = trades[-1][-1]\n",
    "    return final_balance, trades"
   ]
  },
  {
   "cell_type": "code",
   "execution_count": 13,
   "metadata": {
    "collapsed": false
   },
   "outputs": [
    {
     "name": "stdout",
     "output_type": "stream",
     "text": [
      "Initial Balance: $100.0\n",
      "Final Balance Custom Data: $2150.1552464317906\n",
      "Final Balance ASC_6M: $278.95594844665595\n",
      "Final Balance DSC_6M: $127.11683929985772\n",
      "Final Balance STG_6M: $129.33517844435576\n",
      "Final Balance COM_1Y: $127.11683929985772\n"
     ]
    }
   ],
   "source": [
    "print(f\"Initial Balance: ${initial_balance}\")\n",
    "\n",
    "final_balance, trades = trading_bot_1(initial_balance, filtered_df, 1, profit_percent)\n",
    "print(f\"Final Balance Custom Data: ${final_balance}\")\n",
    "trades_df = pd.DataFrame(trades, columns=['unix', 'date', 'trade', 'price', 'open', 'high', 'low', 'close', 'balance'])\n",
    "trades_df['date'] = pd.to_datetime(trades_df['date'])\n",
    "trades_df['date'] = trades_df['date'].apply(lambda x: x.strftime('%Y-%m-%d %H:%M:%S'))\n",
    "trades_df.to_csv('btcusd_buy_tb1_trades.csv', index=False)\n",
    "\n",
    "final_balance_1, trades_asc = trading_bot_1(initial_balance, filtered_df_ascending_6month, 1, profit_percent)\n",
    "print(f\"Final Balance ASC_6M: ${final_balance_1}\")\n",
    "trades_df = pd.DataFrame(trades_asc, columns=['unix', 'date', 'trade', 'price', 'open', 'high', 'low', 'close', 'balance'])\n",
    "trades_df['date'] = pd.to_datetime(trades_df['date'])\n",
    "trades_df['date'] = trades_df['date'].apply(lambda x: x.strftime('%Y-%m-%d %H:%M:%S'))\n",
    "trades_df.to_csv('btcusd_buy_tb1_asc_trades.csv', index=False)\n",
    "\n",
    "final_balance_2, trades_dsc = trading_bot_1(initial_balance, filtered_df_descending_6month, 1, profit_percent)\n",
    "print(f\"Final Balance DSC_6M: ${final_balance_2}\")\n",
    "trades_df = pd.DataFrame(trades_dsc, columns=['unix', 'date', 'trade', 'price', 'open', 'high', 'low', 'close', 'balance'])\n",
    "trades_df['date'] = pd.to_datetime(trades_df['date'])\n",
    "trades_df['date'] = trades_df['date'].apply(lambda x: x.strftime('%Y-%m-%d %H:%M:%S'))\n",
    "trades_df.to_csv('btcusd_buy_tb1_dsc_trades.csv', index=False)\n",
    "\n",
    "final_balance_3, trades_stg = trading_bot_1(initial_balance, filtered_df_stagnation_6month, 1, profit_percent)\n",
    "print(f\"Final Balance STG_6M: ${final_balance_3}\")\n",
    "trades_df = pd.DataFrame(trades_stg, columns=['unix', 'date', 'trade', 'price', 'open', 'high', 'low', 'close', 'balance'])\n",
    "trades_df['date'] = pd.to_datetime(trades_df['date'])\n",
    "trades_df['date'] = trades_df['date'].apply(lambda x: x.strftime('%Y-%m-%d %H:%M:%S'))\n",
    "trades_df.to_csv('btcusd_buy_tb1_stg_trades.csv', index=False)\n",
    "\n",
    "final_balance_4, trades_com = trading_bot_1(initial_balance, filtered_df_combined_1year, 1, profit_percent)\n",
    "print(f\"Final Balance COM_1Y: ${final_balance_4}\")\n",
    "trades_df = pd.DataFrame(trades_com, columns=['unix', 'date', 'trade', 'price', 'open', 'high', 'low', 'close', 'balance'])\n",
    "trades_df['date'] = pd.to_datetime(trades_df['date'])\n",
    "trades_df['date'] = trades_df['date'].apply(lambda x: x.strftime('%Y-%m-%d %H:%M:%S'))\n",
    "trades_df.to_csv('btcusd_buy_tb1_com_trades.csv', index=False)"
   ]
  }
 ],
 "metadata": {
  "kernelspec": {
   "display_name": "Python 3",
   "language": "python",
   "name": "python3"
  },
  "language_info": {
   "codemirror_mode": {
    "name": "ipython",
    "version": 3
   },
   "file_extension": ".py",
   "mimetype": "text/x-python",
   "name": "python",
   "nbconvert_exporter": "python",
   "pygments_lexer": "ipython3",
   "version": "3.12.1"
  }
 },
 "nbformat": 4,
 "nbformat_minor": 0
}
