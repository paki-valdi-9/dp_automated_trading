{
 "cells": [
  {
   "cell_type": "code",
   "execution_count": 435,
   "metadata": {
    "collapsed": true
   },
   "outputs": [],
   "source": [
    "import pandas as pd\n",
    "\n",
    "df = pd.read_csv('BTC-USD_17.09.2014-14.03.2024.csv')\n",
    "\n",
    "df['Date'] = pd.to_datetime(df['Date'], format='%d-%m-%y')"
   ]
  },
  {
   "cell_type": "code",
   "execution_count": 436,
   "metadata": {
    "collapsed": false
   },
   "outputs": [],
   "source": [
    "from datetime import datetime\n",
    "\n",
    "def prompt_for_date(prompt_message, comparison_date=None, must_be_after=False, max_date=None):\n",
    "    while True:\n",
    "        date_input = input(prompt_message)\n",
    "        try:\n",
    "            date = datetime.strptime(date_input, \"%d-%m-%Y\")\n",
    "            if comparison_date is not None:\n",
    "                if must_be_after and date <= comparison_date:\n",
    "                    print(\"The date must be after %s.\" % comparison_date.strftime(\"%d-%m-%Y\"))\n",
    "                    continue\n",
    "                elif not must_be_after and date < comparison_date:\n",
    "                    print(\"The date must be after or equal to %s.\" % comparison_date.strftime(\"%d-%m-%Y\"))\n",
    "                    continue\n",
    "            if max_date is not None and date > max_date:\n",
    "                print(\"The date must not be after %s.\" % max_date.strftime(\"%d-%m-%Y\"))\n",
    "                continue\n",
    "            return date\n",
    "        except ValueError:\n",
    "            print(\"Invalid date format. Please use the format dd-mm-yyyy.\")\n",
    "\n",
    "min_allowed_start_date = datetime.strptime(\"06-04-2015\", \"%d-%m-%Y\")\n",
    "max_allowed_end_date = datetime.strptime(\"14-03-2024\", \"%d-%m-%Y\")\n",
    "\n",
    "start_date = prompt_for_date(\"Enter the start date (dd-mm-yyyy). Starting date cannot be before 06-04-2015: \", min_allowed_start_date, must_be_after=False)\n",
    "end_date = prompt_for_date(\"Enter the end date (dd-mm-yyyy). End date cannot be after 14-03-2024 and must be after the start date: \", start_date, must_be_after=True, max_date=max_allowed_end_date)\n",
    "\n",
    "def prompt_for_number(prompt_message, minimum=None, condition=lambda x: True):\n",
    "    while True:\n",
    "        try:\n",
    "            number = float(input(prompt_message))\n",
    "            if minimum is not None and number <= minimum:\n",
    "                print(\"The value must be greater than %s.\" % minimum)\n",
    "                continue\n",
    "            if not condition(number):\n",
    "                print(\"The input does not meet the required condition.\")\n",
    "                continue\n",
    "            return number\n",
    "        except ValueError:\n",
    "            print(\"Please enter a valid number.\")\n",
    "\n",
    "initial_balance = prompt_for_number(\"Enter the initial balance of the trading bot wallet: \", minimum=0)\n",
    "profit_percent = prompt_for_number(\"Enter the % profit (value must be >= 1): \", minimum=1.00) \n",
    "\n",
    "start_date = pd.to_datetime(start_date)\n",
    "end_date = pd.to_datetime(end_date)\n",
    "\n",
    "ema_start_date = start_date - pd.Timedelta(days=200)\n",
    "ema_end_date = end_date - pd.Timedelta(days=200)\n",
    "initial_ema_start_date = start_date - pd.Timedelta(days=200)\n",
    "\n",
    "start_date_df_ascending_6month = pd.to_datetime('2020-10-01')\n",
    "end_date_df_ascending_6month  = pd.to_datetime('2021-04-01')\n",
    "start_date_df_descending_6month = pd.to_datetime('2021-10-01')\n",
    "end_date_df_descending_6month  = pd.to_datetime('2022-09-01')\n",
    "start_date_df_stagnation_6month = pd.to_datetime('2015-11-01')\n",
    "end_date_df_stagnation_6month  = pd.to_datetime('2016-04-01')\n",
    "start_date_df_combined_1year = pd.to_datetime('2021-10-01')\n",
    "end_date_df_combined_1year  = pd.to_datetime('2022-10-01')\n"
   ]
  },
  {
   "cell_type": "code",
   "execution_count": 437,
   "metadata": {
    "collapsed": false
   },
   "outputs": [
    {
     "name": "stderr",
     "output_type": "stream",
     "text": [
      "C:\\Users\\Pako\\AppData\\Local\\Temp\\ipykernel_11792\\224724209.py:13: SettingWithCopyWarning: \n",
      "A value is trying to be set on a copy of a slice from a DataFrame\n",
      "\n",
      "See the caveats in the documentation: https://pandas.pydata.org/pandas-docs/stable/user_guide/indexing.html#returning-a-view-versus-a-copy\n",
      "  df.rename(columns={'Date': 'date', 'Open': 'open', 'High': 'high', 'Low': 'low','Close': 'close', 'Volume': 'volume', 'Prev_Open': 'prevOpen', 'Prev_Close': 'prevClose', 'Signal': 'signal', 'Position': 'position'}, inplace=True)\n",
      "C:\\Users\\Pako\\AppData\\Local\\Temp\\ipykernel_11792\\224724209.py:15: SettingWithCopyWarning: \n",
      "A value is trying to be set on a copy of a slice from a DataFrame.\n",
      "Try using .loc[row_indexer,col_indexer] = value instead\n",
      "\n",
      "See the caveats in the documentation: https://pandas.pydata.org/pandas-docs/stable/user_guide/indexing.html#returning-a-view-versus-a-copy\n",
      "  df['date'] = df['date'].dt.strftime('%m/%d/%Y')\n",
      "C:\\Users\\Pako\\AppData\\Local\\Temp\\ipykernel_11792\\224724209.py:16: SettingWithCopyWarning: \n",
      "A value is trying to be set on a copy of a slice from a DataFrame\n",
      "\n",
      "See the caveats in the documentation: https://pandas.pydata.org/pandas-docs/stable/user_guide/indexing.html#returning-a-view-versus-a-copy\n",
      "  df.drop(columns=['Adj Close'], inplace=True)\n",
      "C:\\Users\\Pako\\AppData\\Local\\Temp\\ipykernel_11792\\224724209.py:13: SettingWithCopyWarning: \n",
      "A value is trying to be set on a copy of a slice from a DataFrame\n",
      "\n",
      "See the caveats in the documentation: https://pandas.pydata.org/pandas-docs/stable/user_guide/indexing.html#returning-a-view-versus-a-copy\n",
      "  df.rename(columns={'Date': 'date', 'Open': 'open', 'High': 'high', 'Low': 'low','Close': 'close', 'Volume': 'volume', 'Prev_Open': 'prevOpen', 'Prev_Close': 'prevClose', 'Signal': 'signal', 'Position': 'position'}, inplace=True)\n",
      "C:\\Users\\Pako\\AppData\\Local\\Temp\\ipykernel_11792\\224724209.py:15: SettingWithCopyWarning: \n",
      "A value is trying to be set on a copy of a slice from a DataFrame.\n",
      "Try using .loc[row_indexer,col_indexer] = value instead\n",
      "\n",
      "See the caveats in the documentation: https://pandas.pydata.org/pandas-docs/stable/user_guide/indexing.html#returning-a-view-versus-a-copy\n",
      "  df['date'] = df['date'].dt.strftime('%m/%d/%Y')\n",
      "C:\\Users\\Pako\\AppData\\Local\\Temp\\ipykernel_11792\\224724209.py:16: SettingWithCopyWarning: \n",
      "A value is trying to be set on a copy of a slice from a DataFrame\n",
      "\n",
      "See the caveats in the documentation: https://pandas.pydata.org/pandas-docs/stable/user_guide/indexing.html#returning-a-view-versus-a-copy\n",
      "  df.drop(columns=['Adj Close'], inplace=True)\n",
      "C:\\Users\\Pako\\AppData\\Local\\Temp\\ipykernel_11792\\224724209.py:13: SettingWithCopyWarning: \n",
      "A value is trying to be set on a copy of a slice from a DataFrame\n",
      "\n",
      "See the caveats in the documentation: https://pandas.pydata.org/pandas-docs/stable/user_guide/indexing.html#returning-a-view-versus-a-copy\n",
      "  df.rename(columns={'Date': 'date', 'Open': 'open', 'High': 'high', 'Low': 'low','Close': 'close', 'Volume': 'volume', 'Prev_Open': 'prevOpen', 'Prev_Close': 'prevClose', 'Signal': 'signal', 'Position': 'position'}, inplace=True)\n",
      "C:\\Users\\Pako\\AppData\\Local\\Temp\\ipykernel_11792\\224724209.py:15: SettingWithCopyWarning: \n",
      "A value is trying to be set on a copy of a slice from a DataFrame.\n",
      "Try using .loc[row_indexer,col_indexer] = value instead\n",
      "\n",
      "See the caveats in the documentation: https://pandas.pydata.org/pandas-docs/stable/user_guide/indexing.html#returning-a-view-versus-a-copy\n",
      "  df['date'] = df['date'].dt.strftime('%m/%d/%Y')\n",
      "C:\\Users\\Pako\\AppData\\Local\\Temp\\ipykernel_11792\\224724209.py:16: SettingWithCopyWarning: \n",
      "A value is trying to be set on a copy of a slice from a DataFrame\n",
      "\n",
      "See the caveats in the documentation: https://pandas.pydata.org/pandas-docs/stable/user_guide/indexing.html#returning-a-view-versus-a-copy\n",
      "  df.drop(columns=['Adj Close'], inplace=True)\n",
      "C:\\Users\\Pako\\AppData\\Local\\Temp\\ipykernel_11792\\224724209.py:13: SettingWithCopyWarning: \n",
      "A value is trying to be set on a copy of a slice from a DataFrame\n",
      "\n",
      "See the caveats in the documentation: https://pandas.pydata.org/pandas-docs/stable/user_guide/indexing.html#returning-a-view-versus-a-copy\n",
      "  df.rename(columns={'Date': 'date', 'Open': 'open', 'High': 'high', 'Low': 'low','Close': 'close', 'Volume': 'volume', 'Prev_Open': 'prevOpen', 'Prev_Close': 'prevClose', 'Signal': 'signal', 'Position': 'position'}, inplace=True)\n",
      "C:\\Users\\Pako\\AppData\\Local\\Temp\\ipykernel_11792\\224724209.py:15: SettingWithCopyWarning: \n",
      "A value is trying to be set on a copy of a slice from a DataFrame.\n",
      "Try using .loc[row_indexer,col_indexer] = value instead\n",
      "\n",
      "See the caveats in the documentation: https://pandas.pydata.org/pandas-docs/stable/user_guide/indexing.html#returning-a-view-versus-a-copy\n",
      "  df['date'] = df['date'].dt.strftime('%m/%d/%Y')\n",
      "C:\\Users\\Pako\\AppData\\Local\\Temp\\ipykernel_11792\\224724209.py:16: SettingWithCopyWarning: \n",
      "A value is trying to be set on a copy of a slice from a DataFrame\n",
      "\n",
      "See the caveats in the documentation: https://pandas.pydata.org/pandas-docs/stable/user_guide/indexing.html#returning-a-view-versus-a-copy\n",
      "  df.drop(columns=['Adj Close'], inplace=True)\n",
      "C:\\Users\\Pako\\AppData\\Local\\Temp\\ipykernel_11792\\224724209.py:13: SettingWithCopyWarning: \n",
      "A value is trying to be set on a copy of a slice from a DataFrame\n",
      "\n",
      "See the caveats in the documentation: https://pandas.pydata.org/pandas-docs/stable/user_guide/indexing.html#returning-a-view-versus-a-copy\n",
      "  df.rename(columns={'Date': 'date', 'Open': 'open', 'High': 'high', 'Low': 'low','Close': 'close', 'Volume': 'volume', 'Prev_Open': 'prevOpen', 'Prev_Close': 'prevClose', 'Signal': 'signal', 'Position': 'position'}, inplace=True)\n",
      "C:\\Users\\Pako\\AppData\\Local\\Temp\\ipykernel_11792\\224724209.py:15: SettingWithCopyWarning: \n",
      "A value is trying to be set on a copy of a slice from a DataFrame.\n",
      "Try using .loc[row_indexer,col_indexer] = value instead\n",
      "\n",
      "See the caveats in the documentation: https://pandas.pydata.org/pandas-docs/stable/user_guide/indexing.html#returning-a-view-versus-a-copy\n",
      "  df['date'] = df['date'].dt.strftime('%m/%d/%Y')\n",
      "C:\\Users\\Pako\\AppData\\Local\\Temp\\ipykernel_11792\\224724209.py:16: SettingWithCopyWarning: \n",
      "A value is trying to be set on a copy of a slice from a DataFrame\n",
      "\n",
      "See the caveats in the documentation: https://pandas.pydata.org/pandas-docs/stable/user_guide/indexing.html#returning-a-view-versus-a-copy\n",
      "  df.drop(columns=['Adj Close'], inplace=True)\n"
     ]
    }
   ],
   "source": [
    "def prepare_and_export(df, file_name, initial_balance, initial_profit):\n",
    "    df['Position'] = 0\n",
    "    df.rename(columns={'Date': 'date', 'Open': 'open', 'High': 'high', 'Low': 'low', 'Close': 'close', 'Volume': 'volume', 'Position': 'position'}, inplace=True)\n",
    "    df.insert(1, 'time', '00:00')\n",
    "    df['date'] = df['date'].dt.strftime('%m/%d/%Y')\n",
    "    df['date'] = pd.to_datetime(df['date'])\n",
    "    df.drop(columns=['Adj Close'], inplace=True)\n",
    "    df['initial_balance'] = initial_balance\n",
    "    df['profit'] = initial_profit\n",
    "    df.to_csv(file_name, index=False)\n",
    "\n",
    "def prepare_ema_data(df):\n",
    "    df.rename(columns={'Date': 'date', 'Open': 'open', 'High': 'high', 'Low': 'low','Close': 'close', 'Volume': 'volume', 'Prev_Open': 'prevOpen', 'Prev_Close': 'prevClose', 'Signal': 'signal', 'Position': 'position'}, inplace=True)\n",
    "    df.insert(1, 'time', '00:00')\n",
    "    df['date'] = df['date'].dt.strftime('%m/%d/%Y')\n",
    "    df.drop(columns=['Adj Close'], inplace=True)\n",
    "    \n",
    "ema_filtered_df = df[(df['Date'] >= initial_ema_start_date) & (df['Date'] <= end_date)]\n",
    "ema_filtered_df_ascending_6month = df[(df['Date'] >= start_date_df_ascending_6month - pd.Timedelta(days=200)) & (df['Date'] <= end_date_df_ascending_6month)]\n",
    "ema_filtered_df_descending_6month = df[(df['Date'] >= start_date_df_descending_6month - pd.Timedelta(days=200)) & (df['Date'] <= end_date_df_descending_6month)]\n",
    "ema_filtered_df_stagnation_6month = df[(df['Date'] >= start_date_df_stagnation_6month - pd.Timedelta(days=200)) & (df['Date'] <= end_date_df_stagnation_6month)]\n",
    "ema_filtered_df_combined_1year = df[(df['Date'] >= start_date_df_combined_1year - pd.Timedelta(days=200)) & (df['Date'] <= end_date_df_combined_1year)]\n",
    "    \n",
    "filtered_df = df[(df['Date'] >= start_date) & (df['Date'] <= end_date)].copy()\n",
    "filtered_df_ascending_6month = df[(df['Date'] >= start_date_df_ascending_6month) & (df['Date'] <= end_date_df_ascending_6month)].copy()\n",
    "filtered_df_descending_6month = df[(df['Date'] >= start_date_df_descending_6month) & (df['Date'] <= end_date_df_descending_6month)].copy()\n",
    "filtered_df_stagnation_6month = df[(df['Date'] >= start_date_df_stagnation_6month) & (df['Date'] <= end_date_df_stagnation_6month)].copy()\n",
    "filtered_df_combined_1year = df[(df['Date'] >= start_date_df_combined_1year) & (df['Date'] <= end_date_df_combined_1year)].copy()\n",
    "\n",
    "prepare_and_export(filtered_df, 'btcusd_tb4_data.csv', initial_balance, profit_percent)\n",
    "prepare_and_export(filtered_df_ascending_6month, 'btcusd_tb4_asc_data.csv', initial_balance, profit_percent)\n",
    "prepare_and_export(filtered_df_descending_6month, 'btcusd_tb4_dsc_data.csv', initial_balance, profit_percent)\n",
    "prepare_and_export(filtered_df_stagnation_6month, 'btcusd_tb4_stg_data.csv', initial_balance, profit_percent)\n",
    "prepare_and_export(filtered_df_combined_1year, 'btcusd_tb4_com_data.csv', initial_balance, profit_percent)\n",
    "\n",
    "prepare_ema_data(ema_filtered_df)\n",
    "prepare_ema_data(ema_filtered_df_ascending_6month)\n",
    "prepare_ema_data(ema_filtered_df_descending_6month)\n",
    "prepare_ema_data(ema_filtered_df_stagnation_6month)\n",
    "prepare_ema_data(ema_filtered_df_combined_1year)"
   ]
  },
  {
   "cell_type": "code",
   "execution_count": 438,
   "metadata": {
    "collapsed": false
   },
   "outputs": [],
   "source": [
    "def calculateEmaValues(outputDataSet, inputDataSet):\n",
    "    ema_lengths = [1, 20, 25, 30, 35, 40, 45, 50, 55, 200]\n",
    "    ema_values = {}\n",
    "    for length in ema_lengths:\n",
    "        ema = inputDataSet['close'].ewm(span=length, adjust=False).mean()\n",
    "        ema_values[f'ema-{length}'] = ema\n",
    "        outputDataSet[f'ema-{length}'] = ema\n",
    "\n",
    "    return ema_values"
   ]
  },
  {
   "cell_type": "code",
   "execution_count": 439,
   "metadata": {
    "collapsed": false
   },
   "outputs": [],
   "source": [
    "ema_values_filtered = calculateEmaValues(filtered_df, ema_filtered_df)\n",
    "ema_values_filtered_asc = calculateEmaValues(filtered_df_ascending_6month, ema_filtered_df_ascending_6month)\n",
    "ema_values_filtered_dsc = calculateEmaValues(filtered_df_descending_6month, ema_filtered_df_descending_6month)\n",
    "ema_values_filtered_stg = calculateEmaValues(filtered_df_stagnation_6month, ema_filtered_df_stagnation_6month)\n",
    "ema_values_filtered_com = calculateEmaValues(filtered_df_combined_1year, ema_filtered_df_combined_1year)"
   ]
  },
  {
   "cell_type": "code",
   "execution_count": 440,
   "metadata": {},
   "outputs": [],
   "source": [
    "def calculate_obv(dataset, obv_period=3):\n",
    "    dataset['obv_change'] = 0\n",
    "    dataset.loc[dataset['close'] > dataset['close'].shift(1), 'obv_change'] = dataset['volume']\n",
    "    dataset.loc[dataset['close'] < dataset['close'].shift(1), 'obv_change'] = -dataset['volume']\n",
    "    dataset['obv'] = dataset['obv_change'].cumsum()\n",
    "\n",
    "    dataset.drop('obv_change', axis=1, inplace=True)\n",
    "    \n",
    "    dataset['obv_rising'] = dataset['obv'] > dataset['obv'].shift(1)\n",
    "    dataset['obv_falling'] = dataset['obv'] < dataset['obv'].shift(1)\n",
    "    for i in range(2, obv_period + 1):\n",
    "        dataset['obv_rising'] = dataset['obv_rising'] & (dataset['obv'] > dataset['obv'].shift(i))\n",
    "    for i in range(2, obv_period + 1):\n",
    "        dataset['obv_falling'] = dataset['obv_falling'] & (dataset['obv'] < dataset['obv'].shift(i))\n",
    "    \n",
    "    dataset.fillna(method='bfill', inplace=True) "
   ]
  },
  {
   "cell_type": "code",
   "execution_count": 441,
   "metadata": {},
   "outputs": [
    {
     "name": "stderr",
     "output_type": "stream",
     "text": [
      "C:\\Users\\Pako\\AppData\\Local\\Temp\\ipykernel_11792\\3380492450.py:16: FutureWarning: DataFrame.fillna with 'method' is deprecated and will raise in a future version. Use obj.ffill() or obj.bfill() instead.\n",
      "  dataset.fillna(method='bfill', inplace=True)\n",
      "C:\\Users\\Pako\\AppData\\Local\\Temp\\ipykernel_11792\\3380492450.py:16: FutureWarning: DataFrame.fillna with 'method' is deprecated and will raise in a future version. Use obj.ffill() or obj.bfill() instead.\n",
      "  dataset.fillna(method='bfill', inplace=True)\n",
      "C:\\Users\\Pako\\AppData\\Local\\Temp\\ipykernel_11792\\3380492450.py:16: FutureWarning: DataFrame.fillna with 'method' is deprecated and will raise in a future version. Use obj.ffill() or obj.bfill() instead.\n",
      "  dataset.fillna(method='bfill', inplace=True)\n",
      "C:\\Users\\Pako\\AppData\\Local\\Temp\\ipykernel_11792\\3380492450.py:16: FutureWarning: DataFrame.fillna with 'method' is deprecated and will raise in a future version. Use obj.ffill() or obj.bfill() instead.\n",
      "  dataset.fillna(method='bfill', inplace=True)\n",
      "C:\\Users\\Pako\\AppData\\Local\\Temp\\ipykernel_11792\\3380492450.py:16: FutureWarning: DataFrame.fillna with 'method' is deprecated and will raise in a future version. Use obj.ffill() or obj.bfill() instead.\n",
      "  dataset.fillna(method='bfill', inplace=True)\n"
     ]
    }
   ],
   "source": [
    "calculate_obv(filtered_df, 3)\n",
    "calculate_obv(filtered_df_ascending_6month, 3)\n",
    "calculate_obv(filtered_df_descending_6month, 3)\n",
    "calculate_obv(filtered_df_stagnation_6month, 3)\n",
    "calculate_obv(filtered_df_combined_1year, 3)"
   ]
  },
  {
   "cell_type": "code",
   "execution_count": 442,
   "metadata": {
    "collapsed": false
   },
   "outputs": [],
   "source": [
    "def calculate_rsi(dataSet, period=3):\n",
    "    delta = dataSet['close'].diff(1)\n",
    "    gain = delta.where(delta > 0, 0)\n",
    "    loss = -delta.where(delta < 0, 0)\n",
    "\n",
    "    avg_gain = gain.rolling(window=period).mean()\n",
    "    avg_loss = loss.rolling(window=period).mean()\n",
    "\n",
    "    rs = avg_gain / avg_loss\n",
    "    rsi = 100 - (100 / (1 + rs))\n",
    "\n",
    "    return rsi"
   ]
  },
  {
   "cell_type": "code",
   "execution_count": 443,
   "metadata": {
    "collapsed": false
   },
   "outputs": [],
   "source": [
    "filtered_df['rsi'] = calculate_rsi(filtered_df)\n",
    "filtered_df_ascending_6month['rsi'] = calculate_rsi(filtered_df_ascending_6month)\n",
    "filtered_df_descending_6month['rsi'] = calculate_rsi(filtered_df_descending_6month)\n",
    "filtered_df_stagnation_6month['rsi'] = calculate_rsi(filtered_df_stagnation_6month)\n",
    "filtered_df_combined_1year['rsi'] = calculate_rsi(filtered_df_combined_1year)"
   ]
  },
  {
   "cell_type": "code",
   "execution_count": 444,
   "metadata": {
    "collapsed": false
   },
   "outputs": [],
   "source": [
    "def checkMarketTrend(dataSet):\n",
    "    dataSet['trend'] = dataSet[['ema-20', 'ema-25', 'ema-30', 'ema-35', 'ema-40', 'ema-45', 'ema-50', 'ema-55']].apply(lambda x: all(x[i] > x[i+1] for i in range(len(x)-1)), axis=1).astype(int)"
   ]
  },
  {
   "cell_type": "code",
   "execution_count": 445,
   "metadata": {
    "collapsed": false
   },
   "outputs": [
    {
     "name": "stderr",
     "output_type": "stream",
     "text": [
      "C:\\Users\\Pako\\AppData\\Local\\Temp\\ipykernel_11792\\1264709472.py:2: FutureWarning: Series.__getitem__ treating keys as positions is deprecated. In a future version, integer keys will always be treated as labels (consistent with DataFrame behavior). To access a value by position, use `ser.iloc[pos]`\n",
      "  dataSet['trend'] = dataSet[['ema-20', 'ema-25', 'ema-30', 'ema-35', 'ema-40', 'ema-45', 'ema-50', 'ema-55']].apply(lambda x: all(x[i] > x[i+1] for i in range(len(x)-1)), axis=1).astype(int)\n",
      "C:\\Users\\Pako\\AppData\\Local\\Temp\\ipykernel_11792\\1264709472.py:2: FutureWarning: Series.__getitem__ treating keys as positions is deprecated. In a future version, integer keys will always be treated as labels (consistent with DataFrame behavior). To access a value by position, use `ser.iloc[pos]`\n",
      "  dataSet['trend'] = dataSet[['ema-20', 'ema-25', 'ema-30', 'ema-35', 'ema-40', 'ema-45', 'ema-50', 'ema-55']].apply(lambda x: all(x[i] > x[i+1] for i in range(len(x)-1)), axis=1).astype(int)\n",
      "C:\\Users\\Pako\\AppData\\Local\\Temp\\ipykernel_11792\\1264709472.py:2: FutureWarning: Series.__getitem__ treating keys as positions is deprecated. In a future version, integer keys will always be treated as labels (consistent with DataFrame behavior). To access a value by position, use `ser.iloc[pos]`\n",
      "  dataSet['trend'] = dataSet[['ema-20', 'ema-25', 'ema-30', 'ema-35', 'ema-40', 'ema-45', 'ema-50', 'ema-55']].apply(lambda x: all(x[i] > x[i+1] for i in range(len(x)-1)), axis=1).astype(int)\n",
      "C:\\Users\\Pako\\AppData\\Local\\Temp\\ipykernel_11792\\1264709472.py:2: FutureWarning: Series.__getitem__ treating keys as positions is deprecated. In a future version, integer keys will always be treated as labels (consistent with DataFrame behavior). To access a value by position, use `ser.iloc[pos]`\n",
      "  dataSet['trend'] = dataSet[['ema-20', 'ema-25', 'ema-30', 'ema-35', 'ema-40', 'ema-45', 'ema-50', 'ema-55']].apply(lambda x: all(x[i] > x[i+1] for i in range(len(x)-1)), axis=1).astype(int)\n",
      "C:\\Users\\Pako\\AppData\\Local\\Temp\\ipykernel_11792\\1264709472.py:2: FutureWarning: Series.__getitem__ treating keys as positions is deprecated. In a future version, integer keys will always be treated as labels (consistent with DataFrame behavior). To access a value by position, use `ser.iloc[pos]`\n",
      "  dataSet['trend'] = dataSet[['ema-20', 'ema-25', 'ema-30', 'ema-35', 'ema-40', 'ema-45', 'ema-50', 'ema-55']].apply(lambda x: all(x[i] > x[i+1] for i in range(len(x)-1)), axis=1).astype(int)\n"
     ]
    }
   ],
   "source": [
    "checkMarketTrend(filtered_df)\n",
    "checkMarketTrend(filtered_df_ascending_6month)\n",
    "checkMarketTrend(filtered_df_descending_6month)\n",
    "checkMarketTrend(filtered_df_stagnation_6month)\n",
    "checkMarketTrend(filtered_df_combined_1year)"
   ]
  },
  {
   "cell_type": "code",
   "execution_count": 446,
   "metadata": {
    "collapsed": false
   },
   "outputs": [],
   "source": [
    "#BUY SIGNAL\n",
    "    #close price above 200 EMA\n",
    "    #Ribbon also above 200 EMA. Price must pull back to ribbon without closing below 200 EMA in the last [x] values\n",
    "    #RSI must be oversold\n",
    "    #obv must be rising which indicates bullish pattern\n",
    "    \n",
    "#SHORT SIGNAL IS OPPOSITE\n",
    "\n",
    "def generate_signal(row, pullback_period=5):\n",
    "    ema_lengths = [20, 25, 30, 35, 40, 45, 50, 55]\n",
    "    \n",
    "    buy_condition_1 = row['close'] > row['ema-200']\n",
    "    buy_condition_2 = all(row[f'ema-{i}'] > row['ema-200'] for i in ema_lengths)\n",
    "    buy_condition_3 = all(row['rsi'] >= 60 for _ in range(pullback_period))\n",
    "    buy_condition_4 = row['obv_rising']\n",
    "\n",
    "    short_condition_1 = row['close'] < row['ema-200']\n",
    "    short_condition_2 = all(row[f'ema-{i}'] < row['ema-200'] for i in ema_lengths)\n",
    "    short_condition_3 = all(row['rsi'] <=40 for _ in range(pullback_period))\n",
    "    short_condition_4 = row['obv_falling']\n",
    "\n",
    "    ribbon_pullback_condition_long = all(row[f'ema-{i}'] > row['ema-200'] for i in ema_lengths)\n",
    "\n",
    "    ribbon_pullback_condition_short = all(row[f'ema-{i}'] < row['ema-200'] for i in ema_lengths)\n",
    "    \n",
    "    if buy_condition_1 and buy_condition_2 and buy_condition_3 and ribbon_pullback_condition_long and buy_condition_4:\n",
    "        return 1\n",
    "\n",
    "    elif short_condition_1 and short_condition_2 and short_condition_3 and ribbon_pullback_condition_short and short_condition_4:\n",
    "        return 0\n",
    "\n",
    "    else:\n",
    "        return 2\n"
   ]
  },
  {
   "cell_type": "code",
   "execution_count": 447,
   "metadata": {
    "collapsed": false
   },
   "outputs": [],
   "source": [
    "filtered_df['signal'] = filtered_df.apply(generate_signal, axis=1)\n",
    "filtered_df_ascending_6month['signal'] = filtered_df_ascending_6month.apply(generate_signal, axis=1)\n",
    "filtered_df_descending_6month['signal'] = filtered_df_descending_6month.apply(generate_signal, axis=1)\n",
    "filtered_df_stagnation_6month['signal'] = filtered_df_stagnation_6month.apply(generate_signal, axis=1)\n",
    "filtered_df_combined_1year['signal'] = filtered_df_combined_1year.apply(generate_signal, axis=1)"
   ]
  },
  {
   "cell_type": "code",
   "execution_count": 448,
   "metadata": {
    "collapsed": false
   },
   "outputs": [],
   "source": [
    "import time\n",
    "from datetime import datetime\n",
    "\n",
    "def trading_bot_4(balance, data, fee, profit_percent, risk_reward_ratio=3):\n",
    "    trades = []\n",
    "    holding = 0\n",
    "    last_buy_balance = balance\n",
    "    mode = ''\n",
    "    holding_count = 0\n",
    "    stop_loss_triggered = False\n",
    "\n",
    "    for index, row in data.iterrows():\n",
    "        date = row['date']\n",
    "        unix_format_date = int(time.mktime(date.timetuple()))\n",
    "        open_price = row['open']\n",
    "        high_price = row['high']\n",
    "        low_price = row['low']\n",
    "        close_price = row['close']\n",
    "\n",
    "        # OPEN POSITION\n",
    "        if holding == 0 and (row['signal'] == 1 or row['signal'] == 0) and not stop_loss_triggered:\n",
    "            buy_price = open_price\n",
    "            fee_amount = (fee / 100) * balance\n",
    "            real_balance = last_buy_balance - fee_amount\n",
    "            last_buy_balance = real_balance\n",
    "            holding = real_balance / buy_price\n",
    "            mode = 'LONG' if row['signal'] == 1 else 'SHORT'\n",
    "\n",
    "            # SET STOP LOSS\n",
    "            stop_loss_level = buy_price - (buy_price * profit_percent / (100 * risk_reward_ratio)) if mode == 'LONG' else buy_price + (buy_price * profit_percent / (100 * risk_reward_ratio))\n",
    "\n",
    "            trades.append([unix_format_date, date, mode, buy_price, open_price, high_price, low_price, close_price, holding, real_balance])\n",
    "        elif holding > 0:\n",
    "            current_value = holding * close_price\n",
    "            profit_amount = 0\n",
    "            if mode == 'SHORT':\n",
    "                profit_amount = holding * (buy_price - close_price)\n",
    "            else:\n",
    "                profit_amount = holding * (close_price - buy_price)\n",
    "            profit = profit_amount / last_buy_balance * 100\n",
    "            trade_closed = False\n",
    "            \n",
    "            if mode == 'LONG' and low_price <= stop_loss_level:\n",
    "                close_price = stop_loss_level\n",
    "                stop_loss_triggered = True\n",
    "            elif mode == 'SHORT' and high_price >= stop_loss_level:\n",
    "                close_price = stop_loss_level\n",
    "                stop_loss_triggered = True\n",
    "            elif profit >= profit_percent:\n",
    "                trade_closed = True\n",
    "\n",
    "            if trade_closed or stop_loss_triggered:\n",
    "                if mode == 'LONG':\n",
    "                    real_balance = current_value - (fee / 100) * current_value\n",
    "                else:\n",
    "                    profit_amount = holding * (buy_price - close_price)\n",
    "                    real_balance = last_buy_balance + profit_amount - (fee / 100) * (last_buy_balance + profit_amount)\n",
    "                \n",
    "                trades.append([unix_format_date, date, 'CLOSE' if mode == 'LONG' else 'COVER', close_price, open_price, high_price, low_price, close_price, holding, real_balance])\n",
    "                holding = 0\n",
    "                mode = ''\n",
    "                last_buy_balance = real_balance\n",
    "                holding_count = 0\n",
    "                trade_closed = False\n",
    "                stop_loss_triggered = False\n",
    "            else:\n",
    "                holding_count += 1\n",
    "\n",
    "    final_balance = trades[-1][-1] if trades else balance\n",
    "    return final_balance, trades\n"
   ]
  },
  {
   "cell_type": "code",
   "execution_count": 449,
   "metadata": {
    "collapsed": false
   },
   "outputs": [
    {
     "name": "stdout",
     "output_type": "stream",
     "text": [
      "Initial Balance: $100.0\n",
      "Final Balance Custom Data: $4305017.654990373\n",
      "Final Balance ASC_6M: $492.5592968343822\n",
      "Final Balance DSC_6M: $266.60668582998306\n",
      "Final Balance STG_6M: $125.13831957260356\n",
      "Final Balance COM_1Y: $278.11816926874604\n"
     ]
    }
   ],
   "source": [
    "print(f\"Initial Balance: ${initial_balance}\")\n",
    "\n",
    "final_balance_tb1, trades = trading_bot_4(initial_balance, filtered_df, 1, profit_percent)\n",
    "print(f\"Final Balance Custom Data: ${final_balance_tb1}\")\n",
    "trades_df = pd.DataFrame(trades, columns=['unix', 'date', 'trade', 'price', 'open', 'high', 'low', 'close', 'position_size', 'balance'])\n",
    "trades_df['date'] = pd.to_datetime(trades_df['date'])\n",
    "trades_df['date'] = trades_df['date'].apply(lambda x: x.strftime('%Y-%m-%d %H:%M:%S'))\n",
    "trades_df.to_csv('btcusd_emarsiobv_tb4_trades.csv', index=False)\n",
    "\n",
    "final_balance_tb1, trades_asc = trading_bot_4(initial_balance, filtered_df_ascending_6month, 1, profit_percent)\n",
    "print(f\"Final Balance ASC_6M: ${final_balance_tb1}\")\n",
    "trades_df = pd.DataFrame(trades_asc, columns=['unix', 'date', 'trade', 'price', 'open', 'high', 'low', 'close', 'position_size', 'balance'])\n",
    "trades_df['date'] = pd.to_datetime(trades_df['date'])\n",
    "trades_df['date'] = trades_df['date'].apply(lambda x: x.strftime('%Y-%m-%d %H:%M:%S'))\n",
    "trades_df.to_csv('btcusd_emarsiobv_tb4_asc_trades.csv', index=False)\n",
    "\n",
    "final_balance_tb2, trades_dsc = trading_bot_4(initial_balance, filtered_df_descending_6month, 1, profit_percent)\n",
    "print(f\"Final Balance DSC_6M: ${final_balance_tb2}\")\n",
    "trades_df = pd.DataFrame(trades_dsc, columns=['unix', 'date', 'trade', 'price', 'open', 'high', 'low', 'close', 'position_size', 'balance'])\n",
    "trades_df['date'] = pd.to_datetime(trades_df['date'])\n",
    "trades_df['date'] = trades_df['date'].apply(lambda x: x.strftime('%Y-%m-%d %H:%M:%S'))\n",
    "trades_df.to_csv('btcusd_emarsiobv_tb4_dsc_trades.csv', index=False)\n",
    "\n",
    "final_balance_tb3, trades_stg = trading_bot_4(initial_balance, filtered_df_stagnation_6month, 1, profit_percent)\n",
    "print(f\"Final Balance STG_6M: ${final_balance_tb3}\")\n",
    "trades_df = pd.DataFrame(trades_stg, columns=['unix', 'date', 'trade', 'price', 'open', 'high', 'low', 'close', 'position_size', 'balance'])\n",
    "trades_df['date'] = pd.to_datetime(trades_df['date'])\n",
    "trades_df['date'] = trades_df['date'].apply(lambda x: x.strftime('%Y-%m-%d %H:%M:%S'))\n",
    "trades_df.to_csv('btcusd_emarsiobv_tb4_stg_trades.csv', index=False)\n",
    "\n",
    "final_balance_tb4, trades_com = trading_bot_4(initial_balance, filtered_df_combined_1year, 1, profit_percent)\n",
    "print(f\"Final Balance COM_1Y: ${final_balance_tb4}\")\n",
    "trades_df = pd.DataFrame(trades_com, columns=['unix', 'date', 'trade', 'price', 'open', 'high', 'low', 'close', 'position_size', 'balance'])\n",
    "trades_df['date'] = pd.to_datetime(trades_df['date'])\n",
    "trades_df['date'] = trades_df['date'].apply(lambda x: x.strftime('%Y-%m-%d %H:%M:%S'))\n",
    "trades_df.to_csv('btcusd_emarsiobv_tb4_com_trades.csv', index=False)"
   ]
  }
 ],
 "metadata": {
  "kernelspec": {
   "display_name": "Python 3",
   "language": "python",
   "name": "python3"
  },
  "language_info": {
   "codemirror_mode": {
    "name": "ipython",
    "version": 3
   },
   "file_extension": ".py",
   "mimetype": "text/x-python",
   "name": "python",
   "nbconvert_exporter": "python",
   "pygments_lexer": "ipython3",
   "version": "3.12.1"
  }
 },
 "nbformat": 4,
 "nbformat_minor": 0
}
