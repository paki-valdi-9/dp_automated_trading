{
 "cells": [
  {
   "cell_type": "markdown",
   "metadata": {
    "collapsed": false
   },
   "source": [
    "Imports and input file"
   ]
  },
  {
   "cell_type": "code",
   "execution_count": 1,
   "metadata": {
    "collapsed": false
   },
   "outputs": [],
   "source": [
    "import pandas as pd\n",
    "\n",
    "df = pd.read_csv('BTC-USD_17.09.2014-14.03.2024.csv')\n",
    "\n",
    "df['Date'] = pd.to_datetime(df['Date'], format='%d-%m-%y')"
   ]
  },
  {
   "cell_type": "code",
   "execution_count": 2,
   "metadata": {
    "collapsed": false
   },
   "outputs": [],
   "source": [
    "from datetime import datetime\n",
    "\n",
    "def prompt_for_date(prompt_message, min_date=None, max_date=None, comparison_date=None, must_be_after=False):\n",
    "    while True:\n",
    "        date_input = input(prompt_message)\n",
    "        try:\n",
    "            date = datetime.strptime(date_input, \"%d-%m-%Y\")\n",
    "            if min_date is not None and date < min_date:\n",
    "                print(\"The date must not be before %s.\" % min_date.strftime(\"%d-%m-%Y\"))\n",
    "                continue\n",
    "            if max_date is not None and date > max_date:\n",
    "                print(\"The date must not be after %s.\" % max_date.strftime(\"%d-%m-%Y\"))\n",
    "                continue\n",
    "            if comparison_date is not None:\n",
    "                if must_be_after and date <= comparison_date:\n",
    "                    print(\"The end date must be after the start date %s.\" % comparison_date.strftime(\"%d-%m-%Y\"))\n",
    "                    continue\n",
    "            return date\n",
    "        except ValueError:\n",
    "            print(\"Invalid date format. Please use the format dd-mm-yyyy.\")\n",
    "\n",
    "min_allowed_start_date = datetime.strptime(\"17-09-2014\", \"%d-%m-%Y\")\n",
    "max_allowed_end_date = datetime.strptime(\"14-03-2024\", \"%d-%m-%Y\")\n",
    "\n",
    "start_date = prompt_for_date(\"Enter the start date (dd-mm-yyyy).\", min_date=min_allowed_start_date)\n",
    "end_date = prompt_for_date(\"Enter the end date (dd-mm-yyyy).\", max_date=max_allowed_end_date, comparison_date=start_date, must_be_after=True)\n",
    "\n",
    "def prompt_for_number(prompt_message, minimum=None, condition=lambda x: True):\n",
    "    while True:\n",
    "        try:\n",
    "            number = float(input(prompt_message))\n",
    "            if minimum is not None and number <= minimum:\n",
    "                print(\"The value must be greater than %s.\" % minimum)\n",
    "                continue\n",
    "            if not condition(number):\n",
    "                print(\"The input does not meet the required condition.\")\n",
    "                continue\n",
    "            return number\n",
    "        except ValueError:\n",
    "            print(\"Please enter a valid number.\")\n",
    "\n",
    "initial_balance = prompt_for_number(\"Enter the initial balance of the trading bot wallet: \", minimum=0)\n",
    "profit_percent = prompt_for_number(\"Enter the % profit (value must be >= 1): \", minimum=1.00) \n",
    "\n",
    "start_date = pd.to_datetime(start_date)\n",
    "end_date = pd.to_datetime(end_date)\n",
    "\n",
    "start_date_df_ascending_6month = pd.to_datetime('2020-10-01')\n",
    "end_date_df_ascending_6month  = pd.to_datetime('2021-04-01')\n",
    "start_date_df_descending_6month = pd.to_datetime('2021-10-01')\n",
    "end_date_df_descending_6month  = pd.to_datetime('2022-09-01')\n",
    "start_date_df_stagnation_6month = pd.to_datetime('2015-11-01')\n",
    "end_date_df_stagnation_6month  = pd.to_datetime('2016-04-01')\n",
    "start_date_df_combined_1year = pd.to_datetime('2021-10-01')\n",
    "end_date_df_combined_1year  = pd.to_datetime('2022-10-01')"
   ]
  },
  {
   "cell_type": "code",
   "execution_count": 3,
   "metadata": {
    "collapsed": false
   },
   "outputs": [],
   "source": [
    "def prepare_and_export(df, file_name, initial_balance, initial_profit):\n",
    "    df['Position'] = 0\n",
    "    df.rename(columns={'Date': 'date', 'Open': 'open', 'High': 'high', 'Low': 'low', 'Close': 'close', 'Volume': 'volume', 'Position': 'position'}, inplace=True)\n",
    "    df.insert(1, 'time', '00:00')\n",
    "    df['date'] = df['date'].dt.strftime('%m/%d/%Y')\n",
    "    df['date'] = pd.to_datetime(df['date'])\n",
    "    df.drop(columns=['Adj Close'], inplace=True)\n",
    "    df['initial_balance'] = initial_balance\n",
    "    df['profit'] = initial_profit\n",
    "    df.to_csv(file_name, index=False)\n",
    "\n",
    "filtered_df = df[(df['Date'] >= start_date) & (df['Date'] <= end_date)].copy()\n",
    "filtered_df_ascending_6month = df[(df['Date'] >= start_date_df_ascending_6month) & (df['Date'] <= end_date_df_ascending_6month)].copy()\n",
    "filtered_df_descending_6month = df[(df['Date'] >= start_date_df_descending_6month) & (df['Date'] <= end_date_df_descending_6month)].copy()\n",
    "filtered_df_stagnation_6month = df[(df['Date'] >= start_date_df_stagnation_6month) & (df['Date'] <= end_date_df_stagnation_6month)].copy()\n",
    "filtered_df_combined_1year = df[(df['Date'] >= start_date_df_combined_1year) & (df['Date'] <= end_date_df_combined_1year)].copy()\n",
    "\n",
    "prepare_and_export(filtered_df, 'btcusd_tb2_data.csv', initial_balance, profit_percent)\n",
    "prepare_and_export(filtered_df_ascending_6month, 'btcusd_tb2_asc_data.csv', initial_balance, profit_percent)\n",
    "prepare_and_export(filtered_df_descending_6month, 'btcusd_tb2_dsc_data.csv', initial_balance, profit_percent)\n",
    "prepare_and_export(filtered_df_stagnation_6month, 'btcusd_tb2_stg_data.csv', initial_balance, profit_percent)\n",
    "prepare_and_export(filtered_df_combined_1year, 'btcusd_tb2_com_data.csv', initial_balance, profit_percent)"
   ]
  },
  {
   "cell_type": "code",
   "execution_count": 4,
   "metadata": {
    "collapsed": false
   },
   "outputs": [],
   "source": [
    "filtered_df['prevClose'] = filtered_df['close'].shift(1)\n",
    "filtered_df['prevPrevClose'] = filtered_df['close'].shift(2)\n",
    "filtered_df['signal'] = 0\n",
    "\n",
    "filtered_df.loc[filtered_df['prevClose'] > filtered_df['prevPrevClose'], 'signal'] = 1\n",
    "filtered_df.loc[filtered_df['prevClose'] < filtered_df['prevPrevClose'], 'signal'] = -1\n",
    "\n",
    "for df in [filtered_df_ascending_6month, filtered_df_descending_6month, \n",
    "           filtered_df_stagnation_6month, filtered_df_combined_1year]:\n",
    "    df['prevClose'] = df['close'].shift(1)\n",
    "    df['prevPrevClose'] = df['close'].shift(2)\n",
    "    df['signal'] = 0\n",
    "    df.loc[df['prevClose'] > df['prevPrevClose'], 'signal'] = 1\n",
    "    df.loc[df['prevClose'] < df['prevPrevClose'], 'signal'] = -1"
   ]
  },
  {
   "cell_type": "code",
   "execution_count": 5,
   "metadata": {
    "collapsed": false
   },
   "outputs": [],
   "source": [
    "import time\n",
    "\n",
    "def trading_bot_2(balance, data, fee_percent, target_profit):\n",
    "    trades = []\n",
    "    holding = 0\n",
    "    open_position_long = False\n",
    "    open_position_short = False\n",
    "    hold_count = 0\n",
    "    initial_balance = balance\n",
    "    initial_price = 0\n",
    "\n",
    "    def log_trade(action, date, current_price):\n",
    "        unix_date = int(time.mktime(date.timetuple()))\n",
    "        trade = [unix_date, date, action, current_price, open_price, high_price, low_price, close_price, holding, balance]\n",
    "        trades.append(trade)\n",
    "\n",
    "    def calculate_fee(amount):\n",
    "        return amount * fee_percent / 100\n",
    "\n",
    "    for index, row in data.iterrows():\n",
    "        date = row['date']\n",
    "        open_price = row['open']\n",
    "        close_price = row['close']\n",
    "        low_price = row['low']\n",
    "        high_price = row['high']\n",
    "\n",
    "        if open_position_long or open_position_short:\n",
    "            if open_position_long:\n",
    "                current_profit = (holding * close_price - calculate_fee(holding * close_price)) - (holding * initial_price)\n",
    "            else:\n",
    "                current_profit = (holding * initial_price - calculate_fee(holding * close_price)) - (holding * close_price)\n",
    "\n",
    "            if (open_position_long and current_profit >= target_profit) or (open_position_short and current_profit <= -target_profit):\n",
    "                balance += current_profit\n",
    "                action = 'CLOSE' if open_position_long else 'COVER'\n",
    "                log_trade(action, date, close_price)\n",
    "                open_position_long = open_position_short = False\n",
    "                hold_count = 0\n",
    "                continue\n",
    "            else:\n",
    "                hold_count += 1\n",
    "\n",
    "        if not open_position_long and not open_position_short:\n",
    "            if row['signal'] == 1 and balance > 0:\n",
    "                open_position_long = True\n",
    "                initial_price = open_price\n",
    "                holding = (balance - calculate_fee(balance)) / open_price\n",
    "                initial_balance = holding * initial_price\n",
    "                log_trade('LONG', date, open_price)\n",
    "            elif row['signal'] == -1 and balance > 0:\n",
    "                open_position_short = True\n",
    "                initial_price = open_price\n",
    "                holding = (balance - calculate_fee(balance)) / open_price\n",
    "                initial_balance = balance\n",
    "                balance -= calculate_fee(balance)\n",
    "                log_trade('SHORT', date, open_price)\n",
    "            else:\n",
    "                log_trade('NO SIGNAL', date, open_price)\n",
    "\n",
    "    final_balance = trades[-1][-1] if trades else balance\n",
    "    return final_balance, trades\n"
   ]
  },
  {
   "cell_type": "code",
   "execution_count": 6,
   "metadata": {
    "collapsed": false
   },
   "outputs": [
    {
     "name": "stdout",
     "output_type": "stream",
     "text": [
      "Initial Balance: $100.0\n",
      "Final Balance Custom Data: $2419.0124697367837\n",
      "Final Balance ASC_6M: $215.30248331584963\n",
      "Final Balance DSC_6M: $123.7065429718465\n",
      "Final Balance STG_6M: $125.44931470581423\n",
      "Final Balance COM_1Y: $123.7065429718465\n"
     ]
    }
   ],
   "source": [
    "print(f\"Initial Balance: ${initial_balance}\")\n",
    "\n",
    "final_balance, trades = trading_bot_2(initial_balance, filtered_df, 1, profit_percent)\n",
    "print(f\"Final Balance Custom Data: ${final_balance}\")\n",
    "trades_df = pd.DataFrame(trades, columns=['unix', 'date', 'trade', 'price', 'open', 'high', 'low', 'close', 'position_size', 'balance'])\n",
    "trades_df['date'] = pd.to_datetime(trades_df['date'])\n",
    "trades_df['date'] = trades_df['date'].apply(lambda x: x.strftime('%Y-%m-%d %H:%M:%S'))\n",
    "trades_df.to_csv('btcusd_trend_tb2_trades.csv', index=False)\n",
    "\n",
    "final_balance_1, trades = trading_bot_2(initial_balance, filtered_df_ascending_6month, 1, profit_percent)\n",
    "print(f\"Final Balance ASC_6M: ${final_balance_1}\")\n",
    "trades_df = pd.DataFrame(trades, columns=['unix', 'date', 'trade', 'price', 'open', 'high', 'low', 'close', 'position_size', 'balance'])\n",
    "trades_df['date'] = pd.to_datetime(trades_df['date'])\n",
    "trades_df['date'] = trades_df['date'].apply(lambda x: x.strftime('%Y-%m-%d %H:%M:%S'))\n",
    "trades_df.to_csv('btcusd_trend_tb2_asc_trades.csv', index=False)\n",
    "\n",
    "final_balance_2, trades = trading_bot_2(initial_balance, filtered_df_descending_6month, 1, profit_percent)\n",
    "print(f\"Final Balance DSC_6M: ${final_balance_2}\")\n",
    "trades_df = pd.DataFrame(trades, columns=['unix', 'date', 'trade', 'price', 'open', 'high', 'low', 'close', 'position_size', 'balance'])\n",
    "trades_df['date'] = pd.to_datetime(trades_df['date'])\n",
    "trades_df['date'] = trades_df['date'].apply(lambda x: x.strftime('%Y-%m-%d %H:%M:%S'))\n",
    "trades_df.to_csv('btcusd_trend_tb2_dsc_trades.csv', index=False)\n",
    "\n",
    "final_balance_3, trades = trading_bot_2(initial_balance, filtered_df_stagnation_6month, 1, profit_percent)\n",
    "print(f\"Final Balance STG_6M: ${final_balance_3}\")\n",
    "trades_df = pd.DataFrame(trades, columns=['unix', 'date', 'trade', 'price', 'open', 'high', 'low', 'close', 'position_size', 'balance'])\n",
    "trades_df['date'] = pd.to_datetime(trades_df['date'])\n",
    "trades_df['date'] = trades_df['date'].apply(lambda x: x.strftime('%Y-%m-%d %H:%M:%S'))\n",
    "trades_df.to_csv('btcusd_trend_tb2_stg_trades.csv', index=False)\n",
    "\n",
    "final_balance_4, trades = trading_bot_2(initial_balance, filtered_df_combined_1year, 1, profit_percent)\n",
    "print(f\"Final Balance COM_1Y: ${final_balance_4}\")\n",
    "trades_df = pd.DataFrame(trades, columns=['unix', 'date', 'trade', 'price', 'open', 'high', 'low', 'close', 'position_size', 'balance'])\n",
    "trades_df['date'] = pd.to_datetime(trades_df['date'])\n",
    "trades_df['date'] = trades_df['date'].apply(lambda x: x.strftime('%Y-%m-%d %H:%M:%S'))\n",
    "trades_df.to_csv('btcusd_trend_tb2_com_trades.csv', index=False)"
   ]
  }
 ],
 "metadata": {
  "kernelspec": {
   "display_name": "Python 3",
   "language": "python",
   "name": "python3"
  },
  "language_info": {
   "codemirror_mode": {
    "name": "ipython",
    "version": 3
   },
   "file_extension": ".py",
   "mimetype": "text/x-python",
   "name": "python",
   "nbconvert_exporter": "python",
   "pygments_lexer": "ipython3",
   "version": "3.12.1"
  }
 },
 "nbformat": 4,
 "nbformat_minor": 0
}
