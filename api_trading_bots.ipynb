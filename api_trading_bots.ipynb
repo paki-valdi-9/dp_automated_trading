{
 "cells": [
  {
   "cell_type": "code",
   "execution_count": 118,
   "metadata": {
    "collapsed": true
   },
   "outputs": [],
   "source": [
    "import time\n",
    "from binance.client import Client\n",
    "from binance.enums import *\n",
    "import ccxt\n",
    "import pandas as pd\n",
    "import time\n",
    "import hashlib\n",
    "import hmac\n",
    "import requests\n",
    "\n",
    "API_KEY = 'f3aabfad7e741c38069d7c23729aea81bfe19e394f8f339f8c57cc92c77b83f0'\n",
    "API_SECRET = 'd9fc0a87fa7aefe680bef2166f97e4880a00db95a7c6bdb609116dbf8e634f6b'\n",
    "\n",
    "client = Client(API_KEY, API_SECRET, testnet=True)"
   ]
  },
  {
   "cell_type": "code",
   "execution_count": 118,
   "metadata": {
    "collapsed": false
   },
   "outputs": [],
   "source": [
    "def set_leverage(symbol, leverage, leverage_type):\n",
    "    client.futures_change_leverage(symbol=symbol, leverage=leverage)\n"
   ]
  },
  {
   "cell_type": "code",
   "execution_count": 119,
   "metadata": {
    "collapsed": false
   },
   "outputs": [],
   "source": [
    "def trading_bot_1_margin(symbol, balance, profit_percent, current_price, current_date):\n",
    "    trades = []\n",
    "    holding = 0\n",
    "    last_buy_balance = 0\n",
    "    filename = 'bot_1_margin_trades_output.xlsx'\n",
    "\n",
    "    try:\n",
    "        df_trades = pd.read_excel(filename)\n",
    "        last_trade = df_trades.iloc[-1]\n",
    "        holding = last_trade['Holding']\n",
    "    except FileNotFoundError:\n",
    "        pass\n",
    "\n",
    "    if holding == 0:\n",
    "        buy_price = current_price\n",
    "        last_buy_balance = balance\n",
    "        quantity = balance / buy_price\n",
    "        holding = quantity\n",
    "        client.create_margin_order(\n",
    "            symbol=symbol,\n",
    "            side=Client.SIDE_BUY,\n",
    "            type=Client.ORDER_TYPE_LIMIT,\n",
    "            timeInForce=Client.TIME_IN_FORCE_GTC,\n",
    "            quantity=quantity,\n",
    "            price=buy_price\n",
    "        )\n",
    "        trades.append([symbol, 'Buy', current_date, buy_price, quantity, holding, balance, 0, 0])\n",
    "    elif holding > 0:\n",
    "        current_value = holding * current_price\n",
    "        profit = (current_value - last_buy_balance) / last_buy_balance * 100\n",
    "\n",
    "        if profit >= profit_percent:\n",
    "            # Create a margin order\n",
    "            client.create_margin_order(\n",
    "                symbol=symbol,\n",
    "                side=Client.SIDE_SELL,\n",
    "                type=Client.ORDER_TYPE_LIMIT,\n",
    "                timeInForce=Client.TIME_IN_FORCE_GTC,\n",
    "                quantity=holding,\n",
    "                price=current_price\n",
    "            )\n",
    "            trades.append([symbol, 'Sell', current_date, current_price, holding, 0, current_value, profit, 0])\n",
    "            holding = 0\n",
    "        else:\n",
    "            trades.append([symbol, 'Hold', current_date, current_price, holding, holding, current_value, profit, 0])\n",
    "\n",
    "    final_balance = df_trades['Balance'].iloc[-1]\n",
    "    df = pd.DataFrame(trades, columns=['Symbol', 'Position', 'Date', 'Open Price', 'My Holding', 'Trade Holding', 'Balance', 'Profit', 'Initial Balance Profit'])\n",
    "    df.to_excel('bot_1_trades.xlsx', index=False)\n",
    "    return final_balance, trades"
   ]
  },
  {
   "cell_type": "code",
   "execution_count": null,
   "metadata": {
    "collapsed": false
   },
   "outputs": [],
   "source": []
  },
  {
   "cell_type": "code",
   "execution_count": null,
   "metadata": {
    "collapsed": false
   },
   "outputs": [],
   "source": [
    "def generate_signal(prev_close, current_close):\n",
    "    if current_close >= prev_close:\n",
    "        return 1\n",
    "    elif current_close < prev_close:\n",
    "        return -1\n",
    "\n",
    "def trading_bot_2(symbol, leverage, balance, prev_close, current_close, current_date, profit_percent):\n",
    "    signal = generate_signal(prev_close, current_close)\n",
    "\n",
    "    trades = []\n",
    "    holding = 0\n",
    "    open_position_long = False\n",
    "    open_position_short = False\n",
    "    open_price = current_close\n",
    "    hold_count = 0\n",
    "    \n",
    "    if os.path.exists('bot_2_trades.xlsx'):\n",
    "        df = pd.read_excel('trades.xlsx')\n",
    "        last_trade = df.iloc[-1]\n",
    "        position = last_trade['Position']\n",
    "        holding = last_trade['Holding']\n",
    "        if position == 'Long' or position == 'Hold Long':\n",
    "            open_position_long = True\n",
    "        elif position == 'Short' or position == 'Hold Short':\n",
    "            open_position_short = True\n",
    "\n",
    "    if open_position_long:\n",
    "        # if balance == 0:\n",
    "        #     trades.append([symbol, 'Insufficient Balance', current_date, open_price, 0, 0, 0, 0])\n",
    "        current_profit = (holding * open_price) - balance / balance * 100\n",
    "        if(current_profit >= profit_percent):\n",
    "            balance = holding * open_price\n",
    "            trades.append([symbol, 'Take Profit Long', current_date, open_price, holding, 0, balance, current_profit])\n",
    "            open_position_long = False\n",
    "            hold_count = 0\n",
    "            holding = 0\n",
    "        else:\n",
    "            hold_count = 1 + hold_count\n",
    "            trades.append([symbol, 'Hold Long', current_date, open_price, holding, holding, balance, current_profit])\n",
    "    elif open_position_short:\n",
    "        if balance == 0:\n",
    "            trades.append([symbol, 'Insufficient Balance', current_date, open_price, 0, 0, 0, 0])\n",
    "        current_profit = (holding * open_price) - balance / balance * 100\n",
    "        if(-1 * current_profit >= profit_percent):\n",
    "            balance = balance + (holding * open_price - balance) * -1\n",
    "            trades.append([symbol, 'Take Profit Short', current_date, open_price, holding, 0, balance, current_profit])\n",
    "            open_position_short = False\n",
    "            hold_count = 0\n",
    "            holding = 0\n",
    "        else:\n",
    "            hold_count = 1 + hold_count\n",
    "            trades.append([symbol, 'Hold Short', current_date, open_price, holding, holding, balance, current_profit])\n",
    "    else:\n",
    "        if signal == 1:\n",
    "            open_position_long = True\n",
    "            holding = balance / open_price\n",
    "            client.create_order(\n",
    "                symbol=symbol,\n",
    "                side=Client.SIDE_BUY,\n",
    "                type=Client.ORDER_TYPE_LIMIT,\n",
    "                timeInForce=Client.TIME_IN_FORCE_GTC,\n",
    "                quantity=holding,\n",
    "                price=open_price\n",
    "            )\n",
    "            trades.append([symbol, 'Long', current_date, open_price, holding, holding, balance, 0])\n",
    "        elif signal == -1:\n",
    "            open_position_short = True\n",
    "            holding = balance / open_price\n",
    "            client.create_order(\n",
    "                symbol=symbol,\n",
    "                side=Client.SIDE_SELL,\n",
    "                type=Client.ORDER_TYPE_LIMIT,\n",
    "                timeInForce=Client.TIME_IN_FORCE_GTC,\n",
    "                quantity=holding,\n",
    "                price=open_price\n",
    "            )\n",
    "            trades.append([symbol, 'Short', current_date, open_price, holding, holding, balance, 0])\n",
    "        else:\n",
    "            trades.append([symbol, 'NO SIGNAL', current_date, open_price, 0, holding, balance, 0])\n",
    "\n",
    "    final_balance = trades[-1][-2]\n",
    "    \n",
    "    df = pd.DataFrame(trades, columns=['Symbol', 'Position', 'Date', 'Open Price', 'My Holding', 'Trade Holding', 'Balance', 'Profit', 'Initial Balance Profit'])\n",
    "    df.to_excel('bot_2_trades.xlsx', index=False)\n",
    "    return final_balance"
   ]
  },
  {
   "cell_type": "code",
   "execution_count": null,
   "metadata": {
    "collapsed": false
   },
   "outputs": [],
   "source": []
  },
  {
   "cell_type": "code",
   "execution_count": null,
   "metadata": {
    "collapsed": false
   },
   "outputs": [],
   "source": [
    "def generate_trading_bot_3_signals(data):\n",
    "    data['Signal'] = data.apply(generate_signal, axis=1)\n",
    "    return data\n",
    "\n",
    "def generate_signal(pullback_period, current_price, ema_200, ribbon, rsi):\n",
    "    buy_condition_1 = current_price > ema_200\n",
    "    buy_condition_2 = all(i > ema_200 for i in ribbon)\n",
    "    buy_condition_3 = all(all(i > j for j in pullback_period) for i in ribbon)\n",
    "    buy_condition_4 = rsi <= 40\n",
    "\n",
    "    short_condition_1 = current_price < ema_200\n",
    "    short_condition_2 = all(i < ema_200 for i in ribbon)\n",
    "    short_condition_3 = all(all(i < j for j in pullback_period) for i in ribbon)\n",
    "    short_condition_4 = rsi >= 60\n",
    "\n",
    "    if buy_condition_1 and buy_condition_2 and buy_condition_3 and buy_condition_4:\n",
    "        return 1\n",
    "    elif short_condition_1 and short_condition_2 and short_condition_3 and short_condition_4:\n",
    "        return 0\n",
    "    else:\n",
    "        return 2\n",
    "    \n",
    "def trading_bot_3(symbol, current_price, balance, current_date, profit_percent, pullback_period, ema_200, ribbon, rsi):\n",
    "    # Generate Signal\n",
    "    signal = generate_signal(pullback_period, current_price, ema_200, ribbon, rsi)\n",
    "    trades = []\n",
    "    holding = 0\n",
    "    last_buy_balance = 0\n",
    "    holding_count = 0\n",
    "    \n",
    "    if os.path.exists('trades.xlsx'):\n",
    "        df = pd.read_excel('trades.xlsx')\n",
    "        last_trade = df.iloc[-1]\n",
    "        mode = last_trade['Position']\n",
    "        holding = last_trade['Holding']\n",
    "        \n",
    "    if holding > 0:\n",
    "        current_value = holding * current_price\n",
    "        profit = (current_value - last_buy_balance) / last_buy_balance * 100\n",
    "\n",
    "        if profit >= profit_percent:\n",
    "            balance = current_value\n",
    "            holding = 0\n",
    "            last_buy_balance = current_value\n",
    "            profit_to_initial_balance = balance - balance / balance * 100\n",
    "            if mode == 'Long':\n",
    "                trades.append([symbol, 'Sell', current_date, current_price, holding, balance, profit, profit_to_initial_balance])\n",
    "            else:\n",
    "                trades.append([symbol, 'Buy', current_date, current_price, holding, balance-profit_percent, profit, profit_to_initial_balance])\n",
    "        else:\n",
    "            holding_count = holding_count + 1\n",
    "            trades.append([symbol, 'Hold', current_date, current_price, holding, current_value, profit, 0])\n",
    "\n",
    "    if holding == 0:\n",
    "        if signal == 1:\n",
    "            if holding == 0:\n",
    "                long_price = current_price\n",
    "                real_balance = balance - balance * 100\n",
    "                last_buy_balance = real_balance\n",
    "                holding = real_balance / long_price\n",
    "                trades.append([symbol, 'Long', current_date, long_price, holding, holding, 0, 0])\n",
    "        elif signal == 0:\n",
    "            if holding == 0:\n",
    "                short_price = current_price\n",
    "                balance = holding * current_price\n",
    "                holding = 0\n",
    "                profit_to_initial_balance = balance - balance / balance * 100\n",
    "                trades.append([symbol, 'Short', current_date, short_price, holding, holding, 0, profit_to_initial_balance])\n",
    "\n",
    "    final_balance = trades[-1][-3]\n",
    "    \n",
    "    df = pd.DataFrame(trades, columns=['Symbol', 'Position', 'Date', 'Open Price', 'My Holding', 'Trade Holding', 'Balance', 'Profit', 'Initial Balance Profit'])\n",
    "    df.to_excel('bot_3_trades.xlsx', index=False)\n",
    "    return final_balance"
   ]
  },
  {
   "cell_type": "code",
   "execution_count": null,
   "metadata": {
    "collapsed": false
   },
   "outputs": [],
   "source": []
  },
  {
   "cell_type": "code",
   "execution_count": 120,
   "metadata": {
    "collapsed": false
   },
   "outputs": [
    {
     "ename": "BinanceAPIException",
     "evalue": "APIError(code=-5000): GET /fapi/v1/account is retired, please use GET /fapi/v2/account",
     "output_type": "error",
     "traceback": [
      "\u001b[1;31m---------------------------------------------------------------------------\u001b[0m",
      "\u001b[1;31mBinanceAPIException\u001b[0m                       Traceback (most recent call last)",
      "Cell \u001b[1;32mIn[120], line 7\u001b[0m\n\u001b[0;32m      5\u001b[0m leverage_type \u001b[38;5;241m=\u001b[39m \u001b[38;5;124m'\u001b[39m\u001b[38;5;124mCROSSED\u001b[39m\u001b[38;5;124m'\u001b[39m\n\u001b[0;32m      6\u001b[0m profit_percent \u001b[38;5;241m=\u001b[39m \u001b[38;5;241m5\u001b[39m\n\u001b[1;32m----> 7\u001b[0m balance \u001b[38;5;241m=\u001b[39m \u001b[43mclient\u001b[49m\u001b[38;5;241;43m.\u001b[39;49m\u001b[43mfutures_account\u001b[49m\u001b[43m(\u001b[49m\u001b[43mversion\u001b[49m\u001b[38;5;241;43m=\u001b[39;49m\u001b[38;5;241;43m2\u001b[39;49m\u001b[43m)\u001b[49m\n\u001b[0;32m      8\u001b[0m \u001b[38;5;28mprint\u001b[39m(balance)\n",
      "File \u001b[1;32m~\\AppData\\Local\\Programs\\Python\\Python310\\lib\\site-packages\\binance\\client.py:6287\u001b[0m, in \u001b[0;36mClient.futures_account\u001b[1;34m(self, **params)\u001b[0m\n\u001b[0;32m   6281\u001b[0m \u001b[38;5;28;01mdef\u001b[39;00m \u001b[38;5;21mfutures_account\u001b[39m(\u001b[38;5;28mself\u001b[39m, \u001b[38;5;241m*\u001b[39m\u001b[38;5;241m*\u001b[39mparams):\n\u001b[0;32m   6282\u001b[0m \u001b[38;5;250m    \u001b[39m\u001b[38;5;124;03m\"\"\"Get current account information.\u001b[39;00m\n\u001b[0;32m   6283\u001b[0m \n\u001b[0;32m   6284\u001b[0m \u001b[38;5;124;03m    https://binance-docs.github.io/apidocs/futures/en/#account-information-user_data\u001b[39;00m\n\u001b[0;32m   6285\u001b[0m \n\u001b[0;32m   6286\u001b[0m \u001b[38;5;124;03m    \"\"\"\u001b[39;00m\n\u001b[1;32m-> 6287\u001b[0m     \u001b[38;5;28;01mreturn\u001b[39;00m \u001b[38;5;28;43mself\u001b[39;49m\u001b[38;5;241;43m.\u001b[39;49m\u001b[43m_request_futures_api\u001b[49m\u001b[43m(\u001b[49m\u001b[38;5;124;43m'\u001b[39;49m\u001b[38;5;124;43mget\u001b[39;49m\u001b[38;5;124;43m'\u001b[39;49m\u001b[43m,\u001b[49m\u001b[43m \u001b[49m\u001b[38;5;124;43m'\u001b[39;49m\u001b[38;5;124;43maccount\u001b[39;49m\u001b[38;5;124;43m'\u001b[39;49m\u001b[43m,\u001b[49m\u001b[43m \u001b[49m\u001b[38;5;28;43;01mTrue\u001b[39;49;00m\u001b[43m,\u001b[49m\u001b[43m \u001b[49m\u001b[43mdata\u001b[49m\u001b[38;5;241;43m=\u001b[39;49m\u001b[43mparams\u001b[49m\u001b[43m)\u001b[49m\n",
      "File \u001b[1;32m~\\AppData\\Local\\Programs\\Python\\Python310\\lib\\site-packages\\binance\\client.py:382\u001b[0m, in \u001b[0;36mClient._request_futures_api\u001b[1;34m(self, method, path, signed, **kwargs)\u001b[0m\n\u001b[0;32m    379\u001b[0m \u001b[38;5;28;01mdef\u001b[39;00m \u001b[38;5;21m_request_futures_api\u001b[39m(\u001b[38;5;28mself\u001b[39m, method, path, signed\u001b[38;5;241m=\u001b[39m\u001b[38;5;28;01mFalse\u001b[39;00m, \u001b[38;5;241m*\u001b[39m\u001b[38;5;241m*\u001b[39mkwargs) \u001b[38;5;241m-\u001b[39m\u001b[38;5;241m>\u001b[39m Dict:\n\u001b[0;32m    380\u001b[0m     uri \u001b[38;5;241m=\u001b[39m \u001b[38;5;28mself\u001b[39m\u001b[38;5;241m.\u001b[39m_create_futures_api_uri(path)\n\u001b[1;32m--> 382\u001b[0m     \u001b[38;5;28;01mreturn\u001b[39;00m \u001b[38;5;28mself\u001b[39m\u001b[38;5;241m.\u001b[39m_request(method, uri, signed, \u001b[38;5;28;01mTrue\u001b[39;00m, \u001b[38;5;241m*\u001b[39m\u001b[38;5;241m*\u001b[39mkwargs)\n",
      "File \u001b[1;32m~\\AppData\\Local\\Programs\\Python\\Python310\\lib\\site-packages\\binance\\client.py:358\u001b[0m, in \u001b[0;36mClient._request\u001b[1;34m(self, method, uri, signed, force_params, **kwargs)\u001b[0m\n\u001b[0;32m    355\u001b[0m kwargs \u001b[38;5;241m=\u001b[39m \u001b[38;5;28mself\u001b[39m\u001b[38;5;241m.\u001b[39m_get_request_kwargs(method, signed, force_params, \u001b[38;5;241m*\u001b[39m\u001b[38;5;241m*\u001b[39mkwargs)\n\u001b[0;32m    357\u001b[0m \u001b[38;5;28mself\u001b[39m\u001b[38;5;241m.\u001b[39mresponse \u001b[38;5;241m=\u001b[39m \u001b[38;5;28mgetattr\u001b[39m(\u001b[38;5;28mself\u001b[39m\u001b[38;5;241m.\u001b[39msession, method)(uri, \u001b[38;5;241m*\u001b[39m\u001b[38;5;241m*\u001b[39mkwargs)\n\u001b[1;32m--> 358\u001b[0m \u001b[38;5;28;01mreturn\u001b[39;00m \u001b[38;5;28;43mself\u001b[39;49m\u001b[38;5;241;43m.\u001b[39;49m\u001b[43m_handle_response\u001b[49m\u001b[43m(\u001b[49m\u001b[38;5;28;43mself\u001b[39;49m\u001b[38;5;241;43m.\u001b[39;49m\u001b[43mresponse\u001b[49m\u001b[43m)\u001b[49m\n",
      "File \u001b[1;32m~\\AppData\\Local\\Programs\\Python\\Python310\\lib\\site-packages\\binance\\client.py:367\u001b[0m, in \u001b[0;36mClient._handle_response\u001b[1;34m(response)\u001b[0m\n\u001b[0;32m    362\u001b[0m \u001b[38;5;250m\u001b[39m\u001b[38;5;124;03m\"\"\"Internal helper for handling API responses from the Binance server.\u001b[39;00m\n\u001b[0;32m    363\u001b[0m \u001b[38;5;124;03mRaises the appropriate exceptions when necessary; otherwise, returns the\u001b[39;00m\n\u001b[0;32m    364\u001b[0m \u001b[38;5;124;03mresponse.\u001b[39;00m\n\u001b[0;32m    365\u001b[0m \u001b[38;5;124;03m\"\"\"\u001b[39;00m\n\u001b[0;32m    366\u001b[0m \u001b[38;5;28;01mif\u001b[39;00m \u001b[38;5;129;01mnot\u001b[39;00m (\u001b[38;5;241m200\u001b[39m \u001b[38;5;241m<\u001b[39m\u001b[38;5;241m=\u001b[39m response\u001b[38;5;241m.\u001b[39mstatus_code \u001b[38;5;241m<\u001b[39m \u001b[38;5;241m300\u001b[39m):\n\u001b[1;32m--> 367\u001b[0m     \u001b[38;5;28;01mraise\u001b[39;00m BinanceAPIException(response, response\u001b[38;5;241m.\u001b[39mstatus_code, response\u001b[38;5;241m.\u001b[39mtext)\n\u001b[0;32m    368\u001b[0m \u001b[38;5;28;01mtry\u001b[39;00m:\n\u001b[0;32m    369\u001b[0m     \u001b[38;5;28;01mreturn\u001b[39;00m response\u001b[38;5;241m.\u001b[39mjson()\n",
      "\u001b[1;31mBinanceAPIException\u001b[0m: APIError(code=-5000): GET /fapi/v1/account is retired, please use GET /fapi/v2/account"
     ]
    }
   ],
   "source": [
    "api_key = 'f3aabfad7e741c38069d7c23729aea81bfe19e394f8f339f8c57cc92c77b83f0'\n",
    "api_secret = 'd9fc0a87fa7aefe680bef2166f97e4880a00db95a7c6bdb609116dbf8e634f6b'\n",
    "symbol = 'BTCUSDT'\n",
    "leverage = 2\n",
    "leverage_type = 'CROSSED'\n",
    "profit_percent = 5\n",
    "balance = client.futures_account(version=2)\n",
    "client = Client(api_key, api_secret, testnet=True)\n",
    "set_leverage(client, symbol, leverage)\n",
    "print(balance)"
   ]
  },
  {
   "cell_type": "code",
   "execution_count": null,
   "metadata": {
    "collapsed": false
   },
   "outputs": [],
   "source": []
  },
  {
   "cell_type": "code",
   "execution_count": null,
   "metadata": {
    "collapsed": false
   },
   "outputs": [],
   "source": [
    "while balance > 0:\n",
    "    balance = trading_bot_1_futures(symbol, leverage, leverage_type, balance, profit_percent)\n",
    "    print(f\"Current Balance: {balance} USDT\")\n",
    "\n",
    "    # Introduce a delay (e.g., 15 minutes) to avoid API rate limits\n",
    "    time.sleep(15 * 60)\n",
    "\n",
    "print(\"Trading stopped. Balance is zero.\")"
   ]
  },
  {
   "cell_type": "code",
   "execution_count": null,
   "metadata": {
    "collapsed": false
   },
   "outputs": [],
   "source": []
  }
 ],
 "metadata": {
  "kernelspec": {
   "display_name": "Python 3",
   "language": "python",
   "name": "python3"
  },
  "language_info": {
   "codemirror_mode": {
    "name": "ipython",
    "version": 2
   },
   "file_extension": ".py",
   "mimetype": "text/x-python",
   "name": "python",
   "nbconvert_exporter": "python",
   "pygments_lexer": "ipython2",
   "version": "2.7.6"
  }
 },
 "nbformat": 4,
 "nbformat_minor": 0
}
